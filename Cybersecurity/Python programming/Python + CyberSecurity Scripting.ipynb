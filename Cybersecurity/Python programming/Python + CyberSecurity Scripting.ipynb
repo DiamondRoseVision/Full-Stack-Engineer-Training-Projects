{
 "cells": [
  {
   "cell_type": "markdown",
   "id": "cfeb893f",
   "metadata": {},
   "source": [
    " ## Parsing Algorithm for Tracking Login Attempts"
   ]
  },
  {
   "cell_type": "code",
   "execution_count": null,
   "id": "55ca3f0e",
   "metadata": {},
   "outputs": [],
   "source": [
    "# Open, read, and split a text file\n",
    "\n",
    "with open(\"login_attempts.txt\". \"r\") as file:\n",
    "    file_text = file.read()\n",
    "usernames = file_text_.split()\n",
    "\n",
    "#Failed Login Counting Function\n",
    "def login_check(login_list, current_user):\n",
    "    counter = 0\n",
    "    for i in login_list:\n",
    "        if i == current_user:\n",
    "            counter = counter + 1\n",
    "    if counter >= 3:\n",
    "        return \"You have tried to login three or more times! Your account is locked, please contact your system administrator!\"\n",
    "    else:\n",
    "        return \"Success!\""
   ]
  }
 ],
 "metadata": {
  "kernelspec": {
   "display_name": "Python 3 (ipykernel)",
   "language": "python",
   "name": "python3"
  },
  "language_info": {
   "codemirror_mode": {
    "name": "ipython",
    "version": 3
   },
   "file_extension": ".py",
   "mimetype": "text/x-python",
   "name": "python",
   "nbconvert_exporter": "python",
   "pygments_lexer": "ipython3",
   "version": "3.10.9"
  }
 },
 "nbformat": 4,
 "nbformat_minor": 5
}

{
 "cells": [
  {
   "cell_type": "markdown",
   "id": "f2454f12",
   "metadata": {},
   "source": [
    "## Binary Searches and Troubleshooting Assessment Questions"
   ]
  },
  {
   "cell_type": "markdown",
   "id": "e4b6b328",
   "metadata": {},
   "source": [
    "### Question 1 : The find_item function uses binary search to recursively locate an item in the list, returning True if found, False otherwise. Something is missing from this function. Can you spot what it is and fix it? Add debug lines where appropriate, to help narrow down the problem."
   ]
  },
  {
   "cell_type": "code",
   "execution_count": 1,
   "id": "4982719e",
   "metadata": {},
   "outputs": [
    {
     "name": "stdout",
     "output_type": "stream",
     "text": [
      "True\n",
      "False\n",
      "True\n",
      "False\n"
     ]
    }
   ],
   "source": [
    "def find_item(list, item):\n",
    "  #Returns True if the item is in the list, False if not.\n",
    "  if len(list) == 0:\n",
    "    return False\n",
    "\n",
    "  #Is the item in the center of the list?\n",
    "  middle = len(list)//2\n",
    "  #DEBUG CODE ADDED --> print(list[middle])\n",
    "  ##DEBUG CODE ADDED --> print(item)\n",
    "\n",
    "  if list[middle] == item:\n",
    "    return True\n",
    "\n",
    "  #DEBUG CODE FIX START --> \n",
    "  while list[middle] != item:\n",
    "    #Is the item in the first half of the list? \n",
    "    if item < list[middle]:\n",
    "      #Call the function with the first half of the list\n",
    "      return find_item(list[:middle], item)\n",
    "\n",
    "    if item > list[middle]:\n",
    "      #Call the function with the second half of the list\n",
    "      return find_item(list[middle+1:], item)\n",
    "   # <-- DEBUG CODE FIX END \n",
    "  \n",
    "    else:\n",
    "    return False\n",
    "\n",
    "#Do not edit below this line - This code helps check your work!\n",
    "list_of_names = sorted([\"Parker\", \"Drew\", \"Cameron\", \"Logan\", \"Alex\", \"Chris\", \"Terry\", \"Jamie\", \"Jordan\", \"Taylor\"])\n",
    "\n",
    "print(find_item(list_of_names, \"Alex\")) # True\n",
    "print(find_item(list_of_names, \"Andrew\")) # False\n",
    "print(find_item(list_of_names, \"Drew\")) # True\n",
    "print(find_item(list_of_names, \"Jared\")) # False"
   ]
  },
  {
   "cell_type": "markdown",
   "id": "df5e4cc5",
   "metadata": {},
   "source": [
    "### Question 2 : The binary_search function returns the position of key in the list if found, or -1 if not found. We want to make sure that it's working correctly, so we need to place debugging lines to let us know each time that the list is cut in half, whether we're on the left or the right. Nothing needs to be pinted when the key has been located.\n",
    "\n",
    "### For example, binary search([1,2,3,4,5,6,7,8,9,10]) first determines that the key, 3, is in the left half of the list, and prints \"checking the left side, then determines that its in the right half of the new list and prints Checking the right side\", before returning the value of 2, which is the position of the key in the list.\n",
    "\n",
    "### Add commands to the code to finish the function"
   ]
  },
  {
   "cell_type": "code",
   "execution_count": 3,
   "id": "5c47fa76",
   "metadata": {},
   "outputs": [
    {
     "name": "stdout",
     "output_type": "stream",
     "text": [
      "Checking the left side\n",
      "Checking the left side\n",
      "0\n",
      "4\n",
      "Checking the right side\n",
      "Checking the left side\n",
      "Checking the right side\n",
      "6\n",
      "Checking the right side\n",
      "Checking the right side\n",
      "Checking the right side\n",
      "9\n",
      "Checking the right side\n",
      "Checking the right side\n",
      "Checking the right side\n",
      "Checking the right side\n",
      "-1\n"
     ]
    },
    {
     "data": {
      "text/plain": [
       "-1"
      ]
     },
     "execution_count": 3,
     "metadata": {},
     "output_type": "execute_result"
    }
   ],
   "source": [
    "def binary_search(list, key):\n",
    "    #Returns the position of key in the list if found, -1 otherwise.\n",
    "\n",
    "    #List must be sorted:\n",
    "    list.sort()\n",
    "    left = 0\n",
    "    right = len(list) - 1\n",
    "\n",
    "    while left <= right:\n",
    "        middle = (left + right) // 2\n",
    "\n",
    "        if list[middle] == key:\n",
    "            return middle\n",
    "        if list[middle] > key:\n",
    "            right = middle - 1\n",
    "            print(\"Checking the left side\")\n",
    "        if list[middle] < key:\n",
    "            left = middle + 1\n",
    "            print(\"Checking the right side\")\n",
    "    return -1 \n",
    "\n",
    "print(binary_search([10, 2, 9, 6, 7, 1, 5, 3, 4, 8], 1))\n",
    "# Should print 2 debug lines and the return value:\n",
    "#Checking the left side\n",
    "#Checking the left side\n",
    "#0\n",
    "\n",
    "print(binary_search([1, 2, 3, 4, 5, 6, 7, 8, 9, 10], 5))\n",
    "#Should print no debug lines, as it's located immediately:\n",
    "#4\n",
    "\n",
    "\n",
    "print(binary_search([10, 9, 8, 7, 6, 5, 4, 3, 2, 1], 7))\n",
    "#Should print 3 debug lines and the return value:\n",
    "#Checking the right side\n",
    "#Checking the left side\n",
    "#Checking the right side\n",
    "#6\n",
    "\n",
    "\n",
    "print(binary_search([1, 3, 5, 7, 9, 10, 2, 4, 6, 8], 10))\n",
    "#Should print 3 debug lines and the return value:\n",
    "#Checking the right side\n",
    "#Checking the right side\n",
    "#Checking the right side\n",
    "#9\n",
    "\n",
    "\n",
    "print(binary_search([5, 1, 8, 2, 4, 10, 7, 6, 3, 9], 11))\n",
    "#Should print 4 debug lines and the \"not found\" value of -1:\n",
    "#Checking the right side\n",
    "#Checking the right side\n",
    "#Checking the right side\n",
    "#Checking the right side\n",
    "-1\n",
    "#"
   ]
  },
  {
   "cell_type": "markdown",
   "id": "9feff0be",
   "metadata": {},
   "source": [
    "### Question 3 : The best_search function linear_search and binary_search functions, to locate a key in the list, and returns how many steps before each method, and which one is the best for that situation. The list does not need to be sorted, as the binary_search function sorts it before proceeding (and uses one step to do so). Here, the linear_search and binary_search functions both return the number of steps that it took to either locate the key, or determine that it's not in the list. If the number of steps is the same for both methods (including the extra step for sorting in binary_search) then the result is a tie. Finish the function"
   ]
  },
  {
   "cell_type": "code",
   "execution_count": 4,
   "id": "6d864838",
   "metadata": {},
   "outputs": [
    {
     "name": "stdout",
     "output_type": "stream",
     "text": [
      "Linear: 1 steps, Binary: 4 steps. Best Search is Linear.\n",
      "Linear: 4 steps, Binary: 4 steps. Result is a Tie.\n",
      "Linear: 4 steps, Binary: 5 steps. Best Search is Linear.\n",
      "Linear: 6 steps, Binary: 5 steps. Best Search is Binary.\n",
      "Linear: 10 steps, Binary: 5 steps. Best Search is Binary.\n"
     ]
    }
   ],
   "source": [
    "def linear_search(list, key):\n",
    "    #Returns the number of steps to determine if key is in the list \n",
    "\n",
    "    #Initialize the counter of steps\n",
    "    steps=0\n",
    "    for i, item in enumerate(list):\n",
    "        steps += 1\n",
    "        if item == key:\n",
    "            break\n",
    "    return steps \n",
    "\n",
    "def binary_search(list, key):\n",
    "    #Returns the number of steps to determine if key is in the list \n",
    "\n",
    "    #List must be sorted:\n",
    "    list.sort()\n",
    "\n",
    "    #The Sort was 1 step, so initialize the counter of steps to 1\n",
    "    steps=1\n",
    "\n",
    "    left = 0\n",
    "    right = len(list) - 1\n",
    "    while left <= right:\n",
    "        steps += 1\n",
    "        middle = (left + right) // 2\n",
    "        \n",
    "        if list[middle] == key:\n",
    "            break\n",
    "        if list[middle] > key:\n",
    "            right = middle - 1\n",
    "        if list[middle] < key:\n",
    "            left = middle + 1\n",
    "    return steps \n",
    "\n",
    "def best_search(list, key):\n",
    "    steps_linear = linear_search(list, key)\n",
    "    steps_binary = binary_search(list, key)\n",
    "    results = \"Linear: \" + str(steps_linear) + \" steps, \"\n",
    "    results += \"Binary: \" + str(steps_binary) + \" steps. \"\n",
    "    if (steps_linear < steps_binary):\n",
    "        results += \"Best Search is Linear.\"\n",
    "    elif (steps_linear > steps_binary):\n",
    "        results += \"Best Search is Binary.\"\n",
    "    else:\n",
    "        results += \"Result is a Tie.\"\n",
    "\n",
    "    return results\n",
    "\n",
    "print(best_search([1, 2, 3, 4, 5, 6, 7, 8, 9, 10], 1))\n",
    "#Should be: Linear: 1 steps, Binary: 4 steps. Best Search is Linear.\n",
    "\n",
    "print(best_search([10, 2, 9, 1, 7, 5, 3, 4, 6, 8], 1))\n",
    "#Should be: Linear: 4 steps, Binary: 4 steps. Result is a Tie.\n",
    "\n",
    "print(best_search([10, 9, 8, 7, 6, 5, 4, 3, 2, 1], 7))\n",
    "#Should be: Linear: 4 steps, Binary: 5 steps. Best Search is Linear.\n",
    "\n",
    "print(best_search([1, 3, 5, 7, 9, 10, 2, 4, 6, 8], 10))\n",
    "#Should be: Linear: 6 steps, Binary: 5 steps. Best Search is Binary.\n",
    "\n",
    "print(best_search([5, 1, 8, 2, 4, 10, 7, 6, 3, 9], 11))\n",
    "#Should be: Linear: 10 steps, Binary: 5 steps. Best Search is Binary."
   ]
  }
 ],
 "metadata": {
  "kernelspec": {
   "display_name": "Python 3 (ipykernel)",
   "language": "python",
   "name": "python3"
  },
  "language_info": {
   "codemirror_mode": {
    "name": "ipython",
    "version": 3
   },
   "file_extension": ".py",
   "mimetype": "text/x-python",
   "name": "python",
   "nbconvert_exporter": "python",
   "pygments_lexer": "ipython3",
   "version": "3.10.9"
  }
 },
 "nbformat": 4,
 "nbformat_minor": 5
}

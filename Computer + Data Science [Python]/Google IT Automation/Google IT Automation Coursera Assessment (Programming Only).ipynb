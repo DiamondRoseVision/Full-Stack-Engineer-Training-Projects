{
 "cells": [
  {
   "cell_type": "markdown",
   "id": "b17db9c6",
   "metadata": {},
   "source": [
    "## Question 1 : Fill in the blanks to print the numbers from 15 to 5, counting down by fives."
   ]
  },
  {
   "cell_type": "code",
   "execution_count": 1,
   "id": "e797d090",
   "metadata": {},
   "outputs": [
    {
     "name": "stdout",
     "output_type": "stream",
     "text": [
      "15 10 5 "
     ]
    }
   ],
   "source": [
    "number = 15 # Initialize the variable\n",
    "while number >= 5:  # Complete the while loop condition\n",
    "    print(number, end=\" \")\n",
    "    number -= 5 # Increment the variable\n",
    "\n",
    "# Should print 15 10 5 "
   ]
  },
  {
   "cell_type": "markdown",
   "id": "93ae2662",
   "metadata": {},
   "source": [
    "## Question 2 : Find and correct the error in the for loop.  The loop should print every number from 5 to 0 in descending order.\n",
    "\n"
   ]
  },
  {
   "cell_type": "code",
   "execution_count": 2,
   "id": "1028c1b1",
   "metadata": {},
   "outputs": [
    {
     "name": "stdout",
     "output_type": "stream",
     "text": [
      "5\n",
      "4\n",
      "3\n",
      "2\n",
      "1\n",
      "0\n"
     ]
    }
   ],
   "source": [
    "for number in range(5, -1, -1):\n",
    "    print(number)\n",
    "\n",
    "# Should print:\n",
    "# 5\n",
    "# 4\n",
    "# 3\n",
    "# 2\n",
    "# 1\n",
    "# 0"
   ]
  },
  {
   "cell_type": "markdown",
   "id": "d980e91e",
   "metadata": {},
   "source": [
    "## Question 3 : Fill in the blanks to complete the function “even_numbers(n)”. This function should count how many even numbers exist in a sequence from 0 to the given “n”number, where 0 counts as an even number.  For example, even_numbers(25) should return 13, and even_numbers(6) should return 4."
   ]
  },
  {
   "cell_type": "code",
   "execution_count": 3,
   "id": "4bfc82fa",
   "metadata": {},
   "outputs": [
    {
     "name": "stdout",
     "output_type": "stream",
     "text": [
      "13\n",
      "73\n",
      "501\n",
      "1\n"
     ]
    }
   ],
   "source": [
    "def even_numbers(n):\n",
    "    count = 0\n",
    "    current_number = 0\n",
    "    while current_number <= n: # Complete the while loop condition\n",
    "        if current_number % 2 == 0:\n",
    "            count += 1 # Increment the appropriate variable\n",
    "        current_number += 1 # Increment the appropriate variable\n",
    "    return count\n",
    "    \n",
    "print(even_numbers(25))   # Should print 13\n",
    "print(even_numbers(144))  # Should print 73\n",
    "print(even_numbers(1000)) # Should print 501\n",
    "print(even_numbers(0))    # Should print 1"
   ]
  },
  {
   "cell_type": "markdown",
   "id": "b78def68",
   "metadata": {},
   "source": [
    "## Question 4 : Fill in the blanks to complete the “rows_asterisks” function. This function should print rows of asterisks (*), where the number of rows is equal to the “rows” variable. The number of asterisks per row should correspond to the row number (row 1 should have 1 asterisk, row 2 should have 2 asterisks, etc.). Complete the code so that “row_asterisks(5)” will print:\n",
    "*\n",
    "\n",
    "* *\n",
    "\n",
    "* * *\n",
    "\n",
    "* * * *\n",
    "\n",
    "* * * * *\n",
    "\n"
   ]
  },
  {
   "cell_type": "code",
   "execution_count": 7,
   "id": "0a1c5add",
   "metadata": {},
   "outputs": [
    {
     "name": "stdout",
     "output_type": "stream",
     "text": [
      "\n",
      "* \n",
      "* * \n",
      "* * * \n",
      "* * * * \n",
      "* * * * * \n"
     ]
    }
   ],
   "source": [
    "def rows_asterisks(rows):\n",
    "    # Complete the outer loop range to control the number of rows\n",
    "    for x in range(0, 6): \n",
    "        # Complete the inner loop range to control the number of \n",
    "        # asterisks per row\n",
    "        for y in range(x): \n",
    "            # Prints one asterisk and one space\n",
    "            print(\"*\", end=\" \")\n",
    "        # An empty print() function inserts a line break at the \n",
    "        # end of the row \n",
    "        print()\n",
    "\n",
    "\n",
    "rows_asterisks(5)\n",
    "# Should print the asterisk rows shown above"
   ]
  },
  {
   "cell_type": "markdown",
   "id": "61e7cdf3",
   "metadata": {},
   "source": [
    "## Question 5 : Fill in the blanks to complete the “divisible” function. This function should count the number of values from 0 to the “max” parameter that are evenly divisible (no remainder) by the “divisor” parameter. Complete the code so that a function call like “divisible(100,10)” will return the number “10”."
   ]
  },
  {
   "cell_type": "code",
   "execution_count": 5,
   "id": "f20356ab",
   "metadata": {
    "scrolled": true
   },
   "outputs": [
    {
     "name": "stdout",
     "output_type": "stream",
     "text": [
      "10\n",
      "4\n",
      "9\n"
     ]
    }
   ],
   "source": [
    "def divisible(max, divisor):\n",
    "    count = 0 # Initialize an incremental variable\n",
    "    for x in range(max): # Complete the for loop\n",
    "        if x % divisor == 0:\n",
    "            count += 1 # Increment the appropriate variable\n",
    "    return count\n",
    "\n",
    "print(divisible(100, 10)) # Should be 10\n",
    "print(divisible(10, 3)) # Should be 4\n",
    "print(divisible(144, 17)) # Should be 9"
   ]
  },
  {
   "cell_type": "markdown",
   "id": "ef646bc3",
   "metadata": {},
   "source": [
    "## Question 6 : Fill in the blanks to complete the “even_numbers” function. This function should return a space-separated string of all positive even numbers, excluding 0, up to and including the “maximum” variable that's passed into the function. Complete the for loop so that a function call like “even_numbers(6)” will return the numbers “2 4 6”."
   ]
  },
  {
   "cell_type": "code",
   "execution_count": 6,
   "id": "53b5e930",
   "metadata": {},
   "outputs": [
    {
     "name": "stdout",
     "output_type": "stream",
     "text": [
      "2 4 6\n",
      "2 4 6 8 10\n",
      "\n",
      "2\n",
      "\n"
     ]
    }
   ],
   "source": [
    "def even_numbers(maximum):\n",
    "\n",
    "    return_string = \"\" # Initializes variable as a string\n",
    "\n",
    "    # Complete the for loop with a range that includes all even numbers\n",
    "    # up to and including the \"maximum\" value, but excluding 0.\n",
    "    for x in [num for num in range(1, maximum+1) if num % 2 == 0]:\n",
    "        # Complete the body of the loop by appending the even number\n",
    "        # followed by a space to the \"return_string\" variable.\n",
    "        return_string += str(x) + \" \"\n",
    "\n",
    "\n",
    "    # This .strip command will remove the final \" \" space at the end of\n",
    "    # the \"return_string\".\n",
    "    return return_string.strip() "
   ]
  },
  {
   "cell_type": "markdown",
   "id": "70a92589",
   "metadata": {},
   "source": [
    "## Question 7 : Fill in the blanks to complete the “odd_numbers” function. This function should return a space-separated string of all odd positive numbers, up to and including the “maximum” variable that's passed into the function. Complete the for loop so that a function call like “odd_numbers(6)” will return the numbers “1 3 5”."
   ]
  },
  {
   "cell_type": "code",
   "execution_count": 8,
   "id": "d6d38278",
   "metadata": {},
   "outputs": [
    {
     "name": "stdout",
     "output_type": "stream",
     "text": [
      "1 3 5\n",
      "1 3 5 7 9\n",
      "1\n",
      "1 3\n",
      "\n"
     ]
    }
   ],
   "source": [
    "def odd_numbers(maximum):\n",
    "    \n",
    "    return_string = \"\" # Initializes variable as a string\n",
    "\n",
    "    # Complete the for loop with a range that includes all \n",
    "    # odd numbers up to and including the \"maximum\" value.\n",
    "    for x in [num for num in range(1, maximum+1) if num % 2 != 0]:\n",
    "        # Complete the body of the loop by appending the odd number\n",
    "        # followed by a space to the \"return_string\" variable.\n",
    "         return_string += str(x) + \" \"\n",
    "\n",
    "    # This .strip command will remove the final \" \" space \n",
    "    # at the end of the \"return_string\".\n",
    "    return return_string.strip()\n",
    "\n",
    "\n",
    "print(odd_numbers(6))  # Should be 1 3 5\n",
    "print(odd_numbers(10)) # Should be 1 3 5 7 9\n",
    "print(odd_numbers(1))  # Should be 1\n",
    "print(odd_numbers(3))  # Should be 1 3\n",
    "print(odd_numbers(0))  # No numbers displayed"
   ]
  },
  {
   "cell_type": "markdown",
   "id": "61c9c60b",
   "metadata": {},
   "source": [
    "## Question 8 : Fill in the blanks to complete the function “digits(n)” to count how many digits the given number has. For example: 25 has 2 digits and 144 has 3 digits. "
   ]
  },
  {
   "cell_type": "code",
   "execution_count": 11,
   "id": "15c8cb13",
   "metadata": {},
   "outputs": [
    {
     "name": "stdout",
     "output_type": "stream",
     "text": [
      "2\n",
      "3\n",
      "4\n",
      "1\n"
     ]
    }
   ],
   "source": [
    "def digits(n):\n",
    "    count = 0\n",
    "    if n == 0:\n",
    "      count += 1\n",
    "    while n >= 1: # Complete the while loop condition\n",
    "        # Complete the body of the while loop. This should include \n",
    "        # performing a calculation and incrementing a variable in the\n",
    "        # appropriate order.  \n",
    "        count += 1 \n",
    "        n = n/10\n",
    "    return count\n",
    "    \n",
    "print(digits(25))   # Should print 2\n",
    "print(digits(144))  # Should print 3\n",
    "print(digits(1000)) # Should print 4\n",
    "print(digits(0))    # Should print 1"
   ]
  },
  {
   "cell_type": "code",
   "execution_count": null,
   "id": "e1708c38",
   "metadata": {},
   "outputs": [],
   "source": []
  }
 ],
 "metadata": {
  "kernelspec": {
   "display_name": "Python 3 (ipykernel)",
   "language": "python",
   "name": "python3"
  },
  "language_info": {
   "codemirror_mode": {
    "name": "ipython",
    "version": 3
   },
   "file_extension": ".py",
   "mimetype": "text/x-python",
   "name": "python",
   "nbconvert_exporter": "python",
   "pygments_lexer": "ipython3",
   "version": "3.10.9"
  }
 },
 "nbformat": 4,
 "nbformat_minor": 5
}

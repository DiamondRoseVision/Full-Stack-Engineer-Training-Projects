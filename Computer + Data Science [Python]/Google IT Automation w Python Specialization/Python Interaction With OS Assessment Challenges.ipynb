{
 "cells": [
  {
   "cell_type": "markdown",
   "id": "5e42dd8f",
   "metadata": {},
   "source": [
    "## Python Interaction With OS Assessment Challenges"
   ]
  },
  {
   "cell_type": "markdown",
   "id": "30cd1e70",
   "metadata": {},
   "source": [
    "### Question 1 : The create_python_script function creates a new python script in the current working directory, adds the line of comments to it declared by the comments variable, and returns the size of the new file. Fill in the gaps to create a script called \"program.py\"."
   ]
  },
  {
   "cell_type": "code",
   "execution_count": 11,
   "id": "46a01324",
   "metadata": {
    "scrolled": true
   },
   "outputs": [
    {
     "name": "stdout",
     "output_type": "stream",
     "text": [
      "31\n"
     ]
    }
   ],
   "source": [
    "import os\n",
    "\n",
    "def create_python_script(filename):\n",
    "    comments = \"# Start of a new Python program\"\n",
    "    with open(filename, 'w') as file:\n",
    "        file.write(comments)\n",
    "    filesize = os.path.getsize(filename)\n",
    "    return(filesize)\n",
    "\n",
    "print(create_python_script(\"program.py\"))"
   ]
  },
  {
   "cell_type": "markdown",
   "id": "2e79e7a6",
   "metadata": {},
   "source": [
    "### Question 2 : The new_dictionary function creates a new directory inside the current working directory, then creates a new empty file inside the new directory, and returns the list of files in that directory. Fill in the gaps to create a file \"script.py\" in the directory \"PythonPrograms\""
   ]
  },
  {
   "cell_type": "code",
   "execution_count": 7,
   "id": "b321e66b",
   "metadata": {},
   "outputs": [
    {
     "name": "stdout",
     "output_type": "stream",
     "text": [
      "['script.py']\n",
      "['scriptA.py']\n",
      "['scriptB.py']\n",
      "['scriptC.py']\n",
      "['script1.py']\n",
      "['scriptA1.py']\n",
      "['scriptA2.py']\n"
     ]
    }
   ],
   "source": [
    "import os\n",
    "\n",
    "def new_directory(directory, filename):\n",
    "  # Before creating a new directory, check to see if it already exists\n",
    "  if os.path.isdir(directory) == False:\n",
    "    os.mkdir(directory)\n",
    "    new_path = os.path.abspath(directory)\n",
    "\n",
    "  # Create the new file inside of the new directory\n",
    "  os.chdir(new_path)\n",
    "  with open (filename, mode = 'w') as file:\n",
    "    pass\n",
    "\n",
    "  # Return the list of files in the new directory\n",
    "  return os.listdir(new_path)\n",
    "\n",
    "print(new_directory(\"PythonPrograms\", \"script.py\"))\n",
    "print(new_directory(\"PythonPrograms\", \"scriptA.py\"))\n",
    "print(new_directory(\"PythonPrograms\", \"scriptB.py\"))\n",
    "print(new_directory(\"PythonPrograms\", \"scriptC.py\"))\n",
    "print(new_directory(\"PythonProg\", \"script1.py\"))\n",
    "print(new_directory(\"PythonProg\", \"scriptA1.py\"))\n",
    "print(new_directory(\"PythonProg\", \"scriptA2.py\"))"
   ]
  },
  {
   "cell_type": "markdown",
   "id": "3eeccfbd",
   "metadata": {},
   "source": [
    "### Question 3 : The file_date function creates a new_file in the current working directory, checks, the date that the file was modified, and returns just the date portion of the timestamp in the format of yyyy-mm-dd. Fill in the gaps to create a file called \"newfile.txt\" nd check the date that it was modified"
   ]
  },
  {
   "cell_type": "code",
   "execution_count": 9,
   "id": "d10b4c8b",
   "metadata": {},
   "outputs": [
    {
     "name": "stdout",
     "output_type": "stream",
     "text": [
      "2023-06-21\n"
     ]
    }
   ],
   "source": [
    "import os\n",
    "import datetime\n",
    "\n",
    "def file_date(filename):\n",
    "  # Create the file in the current directory\n",
    "  with open(filename, mode = 'w'):\n",
    "    pass\n",
    "    \n",
    "  timestamp = os.path.getmtime(filename)\n",
    "  date_time = datetime.datetime.fromtimestamp(timestamp)\n",
    "  # Convert the timestamp into a readable format, then into a string\n",
    "  date_time_str = date_time.strftime(\"%Y-%m-%d\")\n",
    "  # Return just the date portion \n",
    "  # Hint: how many characters are in “yyyy-mm-dd”? \n",
    "  return (\"{}\".format(date_time_str))\n",
    "\n",
    "print(file_date(\"newfile.txt\")) \n",
    "# Should be today's date in the format of yyyy-mm-dd"
   ]
  },
  {
   "cell_type": "markdown",
   "id": "61961bd8",
   "metadata": {},
   "source": [
    "### Question 4 : The parent_directory function returns the name of the directory that's located just above the current working directory. Fill in the gaps to complete this function"
   ]
  },
  {
   "cell_type": "code",
   "execution_count": 10,
   "id": "08d09424",
   "metadata": {},
   "outputs": [
    {
     "name": "stdout",
     "output_type": "stream",
     "text": [
      "C:\\Users\\drewc\\PythonPrograms\\PythonPrograms\\PythonPrograms\\PythonPrograms\\PythonPrograms\\PythonPrograms\\PythonPrograms\\PythonPrograms\\PythonPrograms\\PythonPrograms\\PythonPrograms\\PythonPrograms\\PythonProg\\PythonProg\n"
     ]
    }
   ],
   "source": [
    "import os\n",
    "def parent_directory():\n",
    "  # Create a relative path to the parent \n",
    "  # of the current working directory \n",
    "  relative_parent = os.path.join(os.getcwd(), '..')\n",
    "\n",
    "  # Return the absolute path of the parent directory\n",
    "  return os.path.abspath(relative_parent)\n",
    "\n",
    "print(parent_directory())"
   ]
  },
  {
   "cell_type": "code",
   "execution_count": null,
   "id": "c97ccffb",
   "metadata": {},
   "outputs": [],
   "source": []
  }
 ],
 "metadata": {
  "kernelspec": {
   "display_name": "Python 3 (ipykernel)",
   "language": "python",
   "name": "python3"
  },
  "language_info": {
   "codemirror_mode": {
    "name": "ipython",
    "version": 3
   },
   "file_extension": ".py",
   "mimetype": "text/x-python",
   "name": "python",
   "nbconvert_exporter": "python",
   "pygments_lexer": "ipython3",
   "version": "3.10.9"
  }
 },
 "nbformat": 4,
 "nbformat_minor": 5
}

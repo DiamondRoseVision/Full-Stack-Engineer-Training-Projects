{
 "cells": [
  {
   "cell_type": "markdown",
   "id": "5e42dd8f",
   "metadata": {},
   "source": [
    "## Python Interaction With OS Assessment Challenges [ 'read with', 'csv', 'regex', ]"
   ]
  },
  {
   "cell_type": "markdown",
   "id": "30cd1e70",
   "metadata": {},
   "source": [
    "### Question 1 : The create_python_script function creates a new python script in the current working directory, adds the line of comments to it declared by the comments variable, and returns the size of the new file. Fill in the gaps to create a script called \"program.py\"."
   ]
  },
  {
   "cell_type": "code",
   "execution_count": 11,
   "id": "46a01324",
   "metadata": {
    "scrolled": true
   },
   "outputs": [
    {
     "name": "stdout",
     "output_type": "stream",
     "text": [
      "31\n"
     ]
    }
   ],
   "source": [
    "import os\n",
    "\n",
    "def create_python_script(filename):\n",
    "    comments = \"# Start of a new Python program\"\n",
    "    with open(filename, 'w') as file:\n",
    "        file.write(comments)\n",
    "    filesize = os.path.getsize(filename)\n",
    "    return(filesize)\n",
    "\n",
    "print(create_python_script(\"program.py\"))"
   ]
  },
  {
   "cell_type": "markdown",
   "id": "2e79e7a6",
   "metadata": {},
   "source": [
    "### Question 2 : The new_dictionary function creates a new directory inside the current working directory, then creates a new empty file inside the new directory, and returns the list of files in that directory. Fill in the gaps to create a file \"script.py\" in the directory \"PythonPrograms\""
   ]
  },
  {
   "cell_type": "code",
   "execution_count": 7,
   "id": "b321e66b",
   "metadata": {},
   "outputs": [
    {
     "name": "stdout",
     "output_type": "stream",
     "text": [
      "['script.py']\n",
      "['scriptA.py']\n",
      "['scriptB.py']\n",
      "['scriptC.py']\n",
      "['script1.py']\n",
      "['scriptA1.py']\n",
      "['scriptA2.py']\n"
     ]
    }
   ],
   "source": [
    "import os\n",
    "\n",
    "def new_directory(directory, filename):\n",
    "  # Before creating a new directory, check to see if it already exists\n",
    "  if os.path.isdir(directory) == False:\n",
    "    os.mkdir(directory)\n",
    "    new_path = os.path.abspath(directory)\n",
    "\n",
    "  # Create the new file inside of the new directory\n",
    "  os.chdir(new_path)\n",
    "  with open (filename, mode = 'w') as file:\n",
    "    pass\n",
    "\n",
    "  # Return the list of files in the new directory\n",
    "  return os.listdir(new_path)\n",
    "\n",
    "print(new_directory(\"PythonPrograms\", \"script.py\"))\n",
    "print(new_directory(\"PythonPrograms\", \"scriptA.py\"))\n",
    "print(new_directory(\"PythonPrograms\", \"scriptB.py\"))\n",
    "print(new_directory(\"PythonPrograms\", \"scriptC.py\"))\n",
    "print(new_directory(\"PythonProg\", \"script1.py\"))\n",
    "print(new_directory(\"PythonProg\", \"scriptA1.py\"))\n",
    "print(new_directory(\"PythonProg\", \"scriptA2.py\"))"
   ]
  },
  {
   "cell_type": "markdown",
   "id": "3eeccfbd",
   "metadata": {},
   "source": [
    "### Question 3 : The file_date function creates a new_file in the current working directory, checks, the date that the file was modified, and returns just the date portion of the timestamp in the format of yyyy-mm-dd. Fill in the gaps to create a file called \"newfile.txt\" nd check the date that it was modified"
   ]
  },
  {
   "cell_type": "code",
   "execution_count": 9,
   "id": "d10b4c8b",
   "metadata": {},
   "outputs": [
    {
     "name": "stdout",
     "output_type": "stream",
     "text": [
      "2023-06-21\n"
     ]
    }
   ],
   "source": [
    "import os\n",
    "import datetime\n",
    "\n",
    "def file_date(filename):\n",
    "  # Create the file in the current directory\n",
    "  with open(filename, mode = 'w'):\n",
    "    pass\n",
    "    \n",
    "  timestamp = os.path.getmtime(filename)\n",
    "  date_time = datetime.datetime.fromtimestamp(timestamp)\n",
    "  # Convert the timestamp into a readable format, then into a string\n",
    "  date_time_str = date_time.strftime(\"%Y-%m-%d\")\n",
    "  # Return just the date portion \n",
    "  # Hint: how many characters are in “yyyy-mm-dd”? \n",
    "  return (\"{}\".format(date_time_str))\n",
    "\n",
    "print(file_date(\"newfile.txt\")) \n",
    "# Should be today's date in the format of yyyy-mm-dd"
   ]
  },
  {
   "cell_type": "markdown",
   "id": "61961bd8",
   "metadata": {},
   "source": [
    "### Question 4 : The parent_directory function returns the name of the directory that's located just above the current working directory. Fill in the gaps to complete this function"
   ]
  },
  {
   "cell_type": "code",
   "execution_count": 10,
   "id": "08d09424",
   "metadata": {},
   "outputs": [
    {
     "name": "stdout",
     "output_type": "stream",
     "text": [
      "C:\\Users\\drewc\\PythonPrograms\\PythonPrograms\\PythonPrograms\\PythonPrograms\\PythonPrograms\\PythonPrograms\\PythonPrograms\\PythonPrograms\\PythonPrograms\\PythonPrograms\\PythonPrograms\\PythonPrograms\\PythonProg\\PythonProg\n"
     ]
    }
   ],
   "source": [
    "import os\n",
    "def parent_directory():\n",
    "  # Create a relative path to the parent \n",
    "  # of the current working directory \n",
    "  relative_parent = os.path.join(os.getcwd(), '..')\n",
    "\n",
    "  # Return the absolute path of the parent directory\n",
    "  return os.path.abspath(relative_parent)\n",
    "\n",
    "print(parent_directory())"
   ]
  },
  {
   "cell_type": "markdown",
   "id": "ca087af3",
   "metadata": {},
   "source": [
    "### Question 5 : We're working with a list of flowers and some information about each one. The create_file function writes this information to a CSV file. The contents_of_file function reads this file into records and returns the information in a nicelly formatted block. Fill in the gaps of the contents_of_file function to turn the data in the CSV file into a dictionary using DictReader"
   ]
  },
  {
   "cell_type": "code",
   "execution_count": 1,
   "id": "b219abdd",
   "metadata": {},
   "outputs": [
    {
     "name": "stdout",
     "output_type": "stream",
     "text": [
      "a pink carnation is annual\n",
      "a yellow daffodil is perennial\n",
      "a blue iris is perennial\n",
      "a red poinsettia is perennial\n",
      "a yellow sunflower is annual\n",
      "\n"
     ]
    }
   ],
   "source": [
    "import os\n",
    "import csv\n",
    "\n",
    "# Create a file with data in it\n",
    "def create_file(filename):\n",
    "  with open(filename, \"w\") as file:\n",
    "    file.write(\"name,color,type\\n\")\n",
    "    file.write(\"carnation,pink,annual\\n\")\n",
    "    file.write(\"daffodil,yellow,perennial\\n\")\n",
    "    file.write(\"iris,blue,perennial\\n\")\n",
    "    file.write(\"poinsettia,red,perennial\\n\")\n",
    "    file.write(\"sunflower,yellow,annual\\n\")\n",
    "\n",
    "\n",
    "# Read the file contents and format the information about each row\n",
    "def contents_of_file(filename):\n",
    "  return_string = \"\"\n",
    "\n",
    "  # Call the function to create the file \n",
    "  create_file(filename)\n",
    "\n",
    "  # Open the file\n",
    "  with open(filename, \"r\") as FN:\n",
    "    # Read the rows of the file into a dictionary\n",
    "    reader = csv.DictReader(FN)\n",
    "    # Process each item of the dictionary\n",
    "    for row in reader:\n",
    "      return_string += \"a {} {} is {}\\n\".format(row[\"color\"], row[\"name\"], row[\"type\"])\n",
    "  return return_string\n",
    "\n",
    "\n",
    "#Call the function\n",
    "print(contents_of_file(\"flowers.csv\"))"
   ]
  },
  {
   "cell_type": "markdown",
   "id": "e1b7ac08",
   "metadata": {},
   "source": []
  },
  {
   "cell_type": "markdown",
   "id": "65786594",
   "metadata": {},
   "source": [
    "### Question 6 : The check_web_address function checks if the text passed qualifies as a top-level web address, meaning that it contains alphanumeric characters (whch includes letters, numbers, and underscores), as well as periods, dashes, and a plus sign, followed by a period and a character-only top-level domain such as \".com\", \".info\", \".edu\", etc. Fill in the regular expression to do that, using escape characters, wildcards, repitition qualifiers, beginning and end-of-line chrachers, and character classses. "
   ]
  },
  {
   "cell_type": "code",
   "execution_count": 1,
   "id": "534f6dd8",
   "metadata": {},
   "outputs": [
    {
     "name": "stdout",
     "output_type": "stream",
     "text": [
      "True\n",
      "False\n",
      "True\n",
      "False\n",
      "True\n"
     ]
    }
   ],
   "source": [
    "import re\n",
    "def check_web_address(text):\n",
    "  pattern = \"^\\w.*\\.\\w+\\w$\"\n",
    "  result = re.search(pattern, text)\n",
    "  return result != None\n",
    "\n",
    "print(check_web_address(\"gmail.com\")) # True\n",
    "print(check_web_address(\"www@google\")) # False\n",
    "print(check_web_address(\"www.Coursera.org\")) # True\n",
    "print(check_web_address(\"web-address.com/homepage\")) # False\n",
    "print(check_web_address(\"My_Favorite-Blog.US\")) # True"
   ]
  },
  {
   "cell_type": "markdown",
   "id": "274bea3d",
   "metadata": {},
   "source": [
    "###  Question 7 : The check_time function checks for the time format of a 12-hour clock, as follow: the hour is between 1 & 12, with no leading zero, followed by a colon, then minutes between 00 & 59, then an optional space, and then AM OR PM, in upper or lower case.Fill in the regular to do that. How many of the concepts that you just learned can you use here?"
   ]
  },
  {
   "cell_type": "code",
   "execution_count": 2,
   "id": "1ac23c31",
   "metadata": {},
   "outputs": [
    {
     "name": "stdout",
     "output_type": "stream",
     "text": [
      "True\n",
      "True\n",
      "False\n",
      "False\n"
     ]
    }
   ],
   "source": [
    "import re\n",
    "def check_time(text):\n",
    "  pattern = \"[^1-12]:[00-59]?am|pm|AM|PM$\"\n",
    "  result = re.search(pattern, text)\n",
    "  return result != None\n",
    "\n",
    "print(check_time(\"12:45pm\")) # True\n",
    "print(check_time(\"9:59 AM\")) # True\n",
    "print(check_time(\"6:60am\")) # False\n",
    "print(check_time(\"five o'clock\")) # False"
   ]
  },
  {
   "cell_type": "markdown",
   "id": "ba5cbbef",
   "metadata": {},
   "source": [
    "### ###  Question 8 : The contains_acronym function checks the text for the presense of 2 or more characters or digits surrounded by parentheses, with at least the first character in uppercase (if it's a letter), returning True of the condition is met, or False otherwise."
   ]
  },
  {
   "cell_type": "code",
   "execution_count": 3,
   "id": "51a75bc2",
   "metadata": {},
   "outputs": [
    {
     "name": "stdout",
     "output_type": "stream",
     "text": [
      "True\n",
      "True\n",
      "False\n",
      "True\n",
      "True\n"
     ]
    }
   ],
   "source": [
    "import re\n",
    "def contains_acronym(text):\n",
    "  pattern = \".*\\([A-Z0-9].*[\\w]\\).*\"\n",
    "  result = re.search(pattern, text)\n",
    "  return result != None\n",
    "\n",
    "print(contains_acronym(\"Instant messaging (IM) is a set of communication technologies used for text-based communication\")) # True\n",
    "print(contains_acronym(\"American Standard Code for Information Interchange (ASCII) is a character encoding standard for electronic communication\")) # True\n",
    "print(contains_acronym(\"Please do NOT enter without permission!\")) # False\n",
    "print(contains_acronym(\"PostScript is a fourth-generation programming language (4GL)\")) # True\n",
    "print(contains_acronym(\"Have fun using a self-contained underwater breathing apparatus (Scuba)!\")) # True"
   ]
  },
  {
   "cell_type": "markdown",
   "id": "a2661f61",
   "metadata": {},
   "source": [
    "###  Question 9 : Fill in the code to check if the text passed includes a possible U.S. zip code, formatted as follows: exactly 5 digits and sometimes, but not always followed by a dash with 4 more digits. The zip code needs to be preceded by at least one space, and cannot be at the start of the text"
   ]
  },
  {
   "cell_type": "code",
   "execution_count": 4,
   "id": "1d2779a1",
   "metadata": {},
   "outputs": [
    {
     "name": "stdout",
     "output_type": "stream",
     "text": [
      "True\n",
      "False\n",
      "True\n",
      "False\n"
     ]
    }
   ],
   "source": [
    "import re\n",
    "def check_zip_code (text):\n",
    "  result = re.search(r\"^.* \\d+?\\d+\\d+\\d+\\d\", text)\n",
    "  return result != None\n",
    "\n",
    "print(check_zip_code(\"The zip codes for New York are 10001 thru 11104.\")) # True\n",
    "print(check_zip_code(\"90210 is a TV show\")) # False\n",
    "print(check_zip_code(\"Their address is: 123 Main Street, Anytown, AZ 85258-0001.\")) # True\n",
    "print(check_zip_code(\"The Parliament of Canada is at 111 Wellington St, Ottawa, ON K1A0A9.\")) # False"
   ]
  },
  {
   "cell_type": "markdown",
   "id": "9a4de432",
   "metadata": {},
   "source": [
    "### Question 10 : The multi_vowel_words function returns all words with 3 or more consecutive vowels (a,e,i,o,u). Fill in the regular expression to do that."
   ]
  },
  {
   "cell_type": "code",
   "execution_count": 1,
   "id": "66ef503a",
   "metadata": {},
   "outputs": [
    {
     "name": "stdout",
     "output_type": "stream",
     "text": [
      "['beautiful']\n",
      "['Obviously', 'queen', 'courageous', 'gracious']\n",
      "['rambunctious', 'quietly', 'delicious']\n",
      "['queue']\n",
      "[]\n"
     ]
    }
   ],
   "source": [
    "import re\n",
    "def multi_vowel_words(text):\n",
    "  pattern = r\"\\b\\w*[aeiou]{3,}\\w*\\b\"\n",
    "  result = re.findall(pattern, text)\n",
    "  return result\n",
    "\n",
    "print(multi_vowel_words(\"Life is beautiful\")) \n",
    "# ['beautiful']\n",
    "\n",
    "print(multi_vowel_words(\"Obviously, the queen is courageous and gracious.\")) \n",
    "# ['Obviously', 'queen', 'courageous', 'gracious']\n",
    "\n",
    "print(multi_vowel_words(\"The rambunctious children had to sit quietly and await their delicious dinner.\")) \n",
    "# ['rambunctious', 'quietly', 'delicious']\n",
    "\n",
    "print(multi_vowel_words(\"The order of a data queue is First In First Out (FIFO)\")) \n",
    "# ['queue']\n",
    "\n",
    "print(multi_vowel_words(\"Hello world!\")) \n",
    "# []"
   ]
  },
  {
   "cell_type": "markdown",
   "id": "2e72b458",
   "metadata": {},
   "source": [
    "### Question 11 : The transform_comments function converts comments in a python script into those usable by a C compiler. This means looking for text that begins with a hash mark (#) and replacing it wih double slashes(//) which is a C single line comment indicator. ignore the possibility of a hashmark embedded inside of a python command, and assume that it;s only used to indicate a comment. Treat repetitive  hash marks(##)(###) etc. as a single comment indicator, to be replaced with just(//) to complete the function."
   ]
  },
  {
   "cell_type": "code",
   "execution_count": 3,
   "id": "d0160109",
   "metadata": {},
   "outputs": [
    {
     "name": "stdout",
     "output_type": "stream",
     "text": [
      "// Start of program\n",
      "  number = 0   // Initialize the variable\n",
      "  number += 1   // Increment the variable\n",
      "  return(number)\n"
     ]
    }
   ],
   "source": [
    "import re\n",
    "def transform_comments(line_of_code):\n",
    "  result = re.sub(r\"([#]{1,3})\", \"//\", line_of_code)\n",
    "  return result\n",
    "\n",
    "print(transform_comments(\"### Start of program\")) \n",
    "# Should be \"// Start of program\"\n",
    "print(transform_comments(\"  number = 0   ## Initialize the variable\")) \n",
    "# Should be \"  number = 0   // Initialize the variable\"\n",
    "print(transform_comments(\"  number += 1   # Increment the variable\")) \n",
    "# Should be \"  number += 1   // Increment the variable\"\n",
    "print(transform_comments(\"  return(number)\")) \n",
    "# Should be \"  return(number)\""
   ]
  },
  {
   "cell_type": "markdown",
   "id": "db25c3b7",
   "metadata": {},
   "source": [
    "### Question 12 : The convert_phone_number function checks for a U.S. phone number format XXX-XXX-XXXX ( 3 digits followed by a dash, 3 more digits followed by a dash, and 4 digits) and converts it to a more formal format that looks like this: (XXX) XXX XXXX. Fill in the regular expression to complete this function."
   ]
  },
  {
   "cell_type": "code",
   "execution_count": 8,
   "id": "fe4eaa8a",
   "metadata": {},
   "outputs": [
    {
     "name": "stdout",
     "output_type": "stream",
     "text": [
      "My number is (212) 345-9999.\n",
      "Please call (888) 555-1234\n",
      "123-123-12345\n",
      "Phone number of Buckingham Palace is +44 303 123 7300\n"
     ]
    }
   ],
   "source": [
    "import re\n",
    "def convert_phone_number(phone):\n",
    "  result = re.sub(\"([\\d]{3})-([\\d]{3})-([\\d]{4}\\.?)$\", \"(\\g<1>) \\g<2>-\\g<3>\", phone)\n",
    "  return result\n",
    "\n",
    "print(convert_phone_number(\"My number is 212-345-9999.\")) # My number is (212) 345-9999.\n",
    "print(convert_phone_number(\"Please call 888-555-1234\")) # Please call (888) 555-1234\n",
    "print(convert_phone_number(\"123-123-12345\")) # 123-123-12345\n",
    "print(convert_phone_number(\"Phone number of Buckingham Palace is +44 303 123 7300\")) # Phone number of Buckingham Palace is +44 303 123 7300"
   ]
  },
  {
   "cell_type": "markdown",
   "id": "e6bf336a",
   "metadata": {},
   "source": [
    "### Question 13 : We're workingwith a CSV file, whihc contains employee information. Each record has a name field followed by a phone number field, and a role field. The phone number field contains U.S. phone numbers, and need to be modified to the international format, with \"+1-\" in front of th ephonenumbers. Fill in the regular expression, using groups, to use the transform_record function to do that. "
   ]
  },
  {
   "cell_type": "code",
   "execution_count": 7,
   "id": "2ea7032a",
   "metadata": {},
   "outputs": [
    {
     "name": "stdout",
     "output_type": "stream",
     "text": [
      "Sabrina Green,+1-802-867-5309,System Administrator\n",
      "Eli Jones,+1-684-3481127,IT specialist\n",
      "Melody Daniels,+1-846-687-7436,Programmer\n",
      "Charlie Rivera,+1-698-746-3357,Web Developer\n"
     ]
    }
   ],
   "source": [
    "import re\n",
    "def transform_record(record):\n",
    "  new_record = re.sub(\"([\\d]{3}-)([\\d]{3})?([\\d]{3})\", \"+1-\\g<1>\\g<2>\\g<3>\", record)\n",
    "  return new_record\n",
    "\n",
    "\n",
    "print(transform_record(\"Sabrina Green,802-867-5309,System Administrator\")) \n",
    "# Sabrina Green,+1-802-867-5309,System Administrator\n",
    "\n",
    "print(transform_record(\"Eli Jones,684-3481127,IT specialist\")) \n",
    "# Eli Jones,+1-684-3481127,IT specialist\n",
    "\n",
    "print(transform_record(\"Melody Daniels,846-687-7436,Programmer\")) \n",
    "# Melody Daniels,+1-846-687-7436,Programmer\n",
    "\n",
    "print(transform_record(\"Charlie Rivera,698-746-3357,Web Developer\")) \n",
    "# Charlie Rivera,+1-698-746-3357,Web Developer"
   ]
  }
 ],
 "metadata": {
  "kernelspec": {
   "display_name": "Python 3 (ipykernel)",
   "language": "python",
   "name": "python3"
  },
  "language_info": {
   "codemirror_mode": {
    "name": "ipython",
    "version": 3
   },
   "file_extension": ".py",
   "mimetype": "text/x-python",
   "name": "python",
   "nbconvert_exporter": "python",
   "pygments_lexer": "ipython3",
   "version": "3.10.9"
  }
 },
 "nbformat": 4,
 "nbformat_minor": 5
}

{
 "cells": [
  {
   "cell_type": "markdown",
   "id": "c166e382",
   "metadata": {},
   "source": [
    "## Time Remaing Till 90 Years Old Calculator"
   ]
  },
  {
   "cell_type": "code",
   "execution_count": 1,
   "id": "6bcd27f5",
   "metadata": {},
   "outputs": [
    {
     "name": "stdout",
     "output_type": "stream",
     "text": [
      "What is your current age? 26\n",
      "You have 23360 days, 3328 weeks, and 768 months left \n"
     ]
    }
   ],
   "source": [
    "age = input(\"What is your current age? \")\n",
    "\n",
    "\n",
    "age1 = int(age)\n",
    "end = 90\n",
    "monthsEnd = int(end) * 12\n",
    "weeksEnd = int(end) * 52\n",
    "daysEnd = int(end) * 365\n",
    "monthsAge = int(age1) * 12\n",
    "weeksAge = int(age1) * 52\n",
    "daysAge = int(age1) * 365\n",
    "\n",
    "days = daysEnd - daysAge\n",
    "weeks = weeksEnd - weeksAge\n",
    "months = monthsEnd - monthsAge \n",
    "\n",
    "print(f\"You have {days} days, {weeks} weeks, and {months} months left \")"
   ]
  },
  {
   "cell_type": "code",
   "execution_count": null,
   "id": "a1adda0f",
   "metadata": {},
   "outputs": [],
   "source": []
  }
 ],
 "metadata": {
  "kernelspec": {
   "display_name": "Python 3 (ipykernel)",
   "language": "python",
   "name": "python3"
  },
  "language_info": {
   "codemirror_mode": {
    "name": "ipython",
    "version": 3
   },
   "file_extension": ".py",
   "mimetype": "text/x-python",
   "name": "python",
   "nbconvert_exporter": "python",
   "pygments_lexer": "ipython3",
   "version": "3.9.13"
  }
 },
 "nbformat": 4,
 "nbformat_minor": 5
}

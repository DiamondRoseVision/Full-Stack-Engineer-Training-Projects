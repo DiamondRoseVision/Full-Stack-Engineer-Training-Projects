{
 "cells": [
  {
   "cell_type": "code",
   "execution_count": 6,
   "id": "8d190894",
   "metadata": {},
   "outputs": [
    {
     "name": "stdout",
     "output_type": "stream",
     "text": [
      "Welcome to the rollercoaster!\n",
      "\n",
      "What is your height in inches?\n",
      "70\n",
      "You can ride the rollercoaster!\n",
      "\n",
      "What is your age\n",
      "26\n",
      "Adult tickets are $12\n",
      "Do you want a photo taken? Y or N?Y\n",
      "Your total is $15\n"
     ]
    }
   ],
   "source": [
    "print(\"Welcome to the rollercoaster!\\n\")\n",
    "height = int(input(\"What is your height in inches?\\n\"))\n",
    "bill = 0 \n",
    "\n",
    "if height >= 48:\n",
    "    print(\"You can ride the rollercoaster!\\n\")\n",
    "    age = int(input(\"What is your age\\n\"))\n",
    "    if age < 12:\n",
    "        print(\"Child Tickets are $5.\")\n",
    "        bill = 5\n",
    "    elif age <= 18:\n",
    "        print(\"Youth tickets are $7.\")\n",
    "        bill = 7\n",
    "    else:\n",
    "        print(\"Adult tickets are $12\")\n",
    "        bill = 12\n",
    "    \n",
    "    wants_photo = input(\"Do you want a photo taken? Y or N?\")\n",
    "    if wants_photo == \"Y\":\n",
    "        bill += 3 \n",
    "        \n",
    "    print(f\"Your total is ${bill}\")\n",
    "    \n",
    "    \n",
    "else:\n",
    "    print(\"Sorry you ahve to grow taller before you can ride!\")"
   ]
  },
  {
   "cell_type": "code",
   "execution_count": null,
   "id": "8eb04d79",
   "metadata": {},
   "outputs": [],
   "source": []
  }
 ],
 "metadata": {
  "kernelspec": {
   "display_name": "Python 3 (ipykernel)",
   "language": "python",
   "name": "python3"
  },
  "language_info": {
   "codemirror_mode": {
    "name": "ipython",
    "version": 3
   },
   "file_extension": ".py",
   "mimetype": "text/x-python",
   "name": "python",
   "nbconvert_exporter": "python",
   "pygments_lexer": "ipython3",
   "version": "3.9.13"
  }
 },
 "nbformat": 4,
 "nbformat_minor": 5
}

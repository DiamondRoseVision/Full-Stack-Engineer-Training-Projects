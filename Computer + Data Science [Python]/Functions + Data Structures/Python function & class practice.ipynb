{
 "cells": [
  {
   "cell_type": "markdown",
   "id": "e36c7cbc",
   "metadata": {},
   "source": [
    "## Random Mini Functions/classes (Py practice)"
   ]
  },
  {
   "cell_type": "code",
   "execution_count": 1,
   "id": "921953e0",
   "metadata": {},
   "outputs": [],
   "source": [
    "class Student:\n",
    "  def __init__(self, name, year):\n",
    "    self.name = name\n",
    "    self.year = year\n",
    "    self.grades = []\n",
    "  \n",
    "  def add_grade(self, grade):\n",
    "    if type(grade) is Grade:\n",
    "      self.grades.append(grade)      \n",
    "class Grade:\n",
    "  minimum_passing = 65\n",
    "  \n",
    "  def __init__(self, score):\n",
    "    self.score = score\n",
    "    \n",
    "roger = Student(\"Roger van der Weyden\", 10)\n",
    "sandro = Student(\"Sandro Botticelli\", 12)\n",
    "pieter = Student(\"Pieter Bruegel the Elder\", 8)\n",
    "pieter.add_grade(Grade(100))"
   ]
  },
  {
   "cell_type": "code",
   "execution_count": null,
   "id": "53496b13",
   "metadata": {},
   "outputs": [],
   "source": [
    "def unique_english_letters(word):\n",
    "  uniques = 0\n",
    "  for letter in letters:\n",
    "    if letter in word:\n",
    "      uniques += 1\n",
    "  return uniques\n",
    "\n",
    "\n",
    "\n",
    "def count_char_x(word, x):\n",
    "  occurrences = 0\n",
    "  for letter in word:\n",
    "    if letter == x:\n",
    "      occurrences += 1\n",
    "  return occurrences\n",
    "\n",
    "\n",
    "def count_multi_char_x(word, x):\n",
    "  splits = word.split(x)\n",
    "  return(len(splits)-1)"
   ]
  },
  {
   "cell_type": "code",
   "execution_count": null,
   "id": "fb4da1d0",
   "metadata": {},
   "outputs": [],
   "source": [
    "def substring_between_letters(word, start, end):\n",
    "  start_ind = word.find(start)\n",
    "  end_ind = word.find(end)\n",
    "  if start_ind > -1 and end_ind > -1:\n",
    "    return(word[start_ind+1:end_ind])\n",
    "  return word"
   ]
  },
  {
   "cell_type": "code",
   "execution_count": null,
   "id": "a2a9965a",
   "metadata": {},
   "outputs": [],
   "source": [
    "def x_length_words(sentence, x):\n",
    "  words = sentence.split(\" \")\n",
    "  for word in words:\n",
    "    if len(word) < x:\n",
    "      return False\n",
    "  return True"
   ]
  },
  {
   "cell_type": "code",
   "execution_count": null,
   "id": "8154fa09",
   "metadata": {},
   "outputs": [],
   "source": [
    "def every_other_letter(word):\n",
    "  every_other = \"\"\n",
    "  for i in range(0, len(word), 2):\n",
    "    every_other += word[i]\n",
    "  return every_other"
   ]
  },
  {
   "cell_type": "code",
   "execution_count": null,
   "id": "9b374e9f",
   "metadata": {},
   "outputs": [],
   "source": [
    "def reverse_string(word):\n",
    "  reverse = \"\"\n",
    "  for i in range(len(word)-1, -1, -1):\n",
    "    reverse += word[i]\n",
    "  return reverse"
   ]
  },
  {
   "cell_type": "code",
   "execution_count": null,
   "id": "764cc431",
   "metadata": {},
   "outputs": [],
   "source": [
    "def make_spoonerism(word1, word2):\n",
    "  return word2[0]+word1[1:]+\" \"+word1[0]+word2[1:]"
   ]
  },
  {
   "cell_type": "code",
   "execution_count": null,
   "id": "ee647579",
   "metadata": {},
   "outputs": [],
   "source": [
    "def add_exclamation(word):\n",
    "  while(len(word) < 20):\n",
    "    word += \"!\"\n",
    "  return word\n"
   ]
  },
  {
   "cell_type": "code",
   "execution_count": null,
   "id": "eb56885b",
   "metadata": {},
   "outputs": [],
   "source": [
    "def sum_values(my_dictionary):\n",
    "  total = 0\n",
    "  for value in my_dictionary.values():\n",
    "    total += value\n",
    "  return total"
   ]
  },
  {
   "cell_type": "code",
   "execution_count": null,
   "id": "0f56a5e9",
   "metadata": {},
   "outputs": [],
   "source": [
    "def sum_even_keys(my_dictionary):\n",
    "  total = 0\n",
    "  for key in my_dictionary.keys():\n",
    "    if key%2 == 0:\n",
    "      total += my_dictionary[key]\n",
    "  return total"
   ]
  },
  {
   "cell_type": "code",
   "execution_count": null,
   "id": "8e78d711",
   "metadata": {},
   "outputs": [],
   "source": [
    "def add_ten(my_dictionary):\n",
    "  for key in my_dictionary.keys():\n",
    "    my_dictionary[key] += 10\n",
    "  return my_dictionary"
   ]
  },
  {
   "cell_type": "code",
   "execution_count": null,
   "id": "90217eff",
   "metadata": {},
   "outputs": [],
   "source": [
    "def values_that_are_keys(my_dictionary):\n",
    "  value_keys = []\n",
    "  for value in my_dictionary.values():\n",
    "    if value in my_dictionary:\n",
    "      value_keys.append(value)\n",
    "  return value_keys"
   ]
  },
  {
   "cell_type": "code",
   "execution_count": null,
   "id": "44229eb5",
   "metadata": {},
   "outputs": [],
   "source": [
    "def max_key(my_dictionary):\n",
    "  largest_key = float(\"-inf\")\n",
    "  largest_value = float(\"-inf\")\n",
    "  for key, value in my_dictionary.items():\n",
    "    if value > largest_value:\n",
    "      largest_value = value\n",
    "      largest_key = key\n",
    "  return largest_key"
   ]
  },
  {
   "cell_type": "code",
   "execution_count": null,
   "id": "71d3b6d7",
   "metadata": {},
   "outputs": [],
   "source": [
    "def word_length_dictionary(words):\n",
    "  word_lengths = {}\n",
    "  for word in words:\n",
    "    word_lengths[word] = len(word)\n",
    "  return word_lengths"
   ]
  },
  {
   "cell_type": "code",
   "execution_count": null,
   "id": "27d450cc",
   "metadata": {},
   "outputs": [],
   "source": [
    "def max_key(my_dictionary):\n",
    "  largest_key = float(\"-inf\")\n",
    "  largest_value = float(\"-inf\")\n",
    "  for key, value in my_dictionary.items():\n",
    "    if value > largest_value:\n",
    "      largest_value = value\n",
    "      largest_key = key\n",
    "  return largest_key\n"
   ]
  },
  {
   "cell_type": "code",
   "execution_count": null,
   "id": "0455b298",
   "metadata": {},
   "outputs": [],
   "source": [
    "def unique_values(my_dictionary):\n",
    "  seen_values = []\n",
    "  for value in my_dictionary.values():\n",
    "    if value not in seen_values:\n",
    "      seen_values.append(value)\n",
    "  return len(seen_values)"
   ]
  },
  {
   "cell_type": "code",
   "execution_count": null,
   "id": "b26bfaba",
   "metadata": {},
   "outputs": [],
   "source": [
    "def count_first_letter(names):\n",
    "  letters = {}\n",
    "  for key in names:\n",
    "    first_letter = key[0]\n",
    "    if first_letter not in letters:\n",
    "      letters[first_letter] = 0\n",
    "    letters[first_letter] += len(names[key])\n",
    "  return letters"
   ]
  },
  {
   "cell_type": "code",
   "execution_count": null,
   "id": "682dd122",
   "metadata": {},
   "outputs": [],
   "source": [
    "def __init__(self, motor_speed = 0, direction = 180, sensor_range = 10):\n",
    "    self.motor_speed = motor_speed\n",
    "    self.direction = direction\n",
    "    self.sensor_range = sensor_range\n",
    "\n",
    "    class DriveBot:\n",
    "    all_disabled = False\n",
    "    latitude = -999999\n",
    "    longitude = -999999\n",
    "    robot_count = 0\n",
    " \n",
    "    def __init__(self, motor_speed = 0, direction = 180, sensor_range = 10):\n",
    "        self.motor_speed = motor_speed\n",
    "        self.direction = direction\n",
    "        self.sensor_range = sensor_range\n",
    "        DriveBot.robot_count += 1\n",
    "        self.id = DriveBot.robot_count\n",
    " \n",
    "    def control_bot(self, new_speed, new_direction):\n",
    "        self.motor_speed = new_speed\n",
    "        self.direction = new_direction\n",
    " \n",
    "    def adjust_sensor(self, new_sensor_range):\n",
    "        self.sensor_range = new_sensor_range\n",
    "        "
   ]
  }
 ],
 "metadata": {
  "kernelspec": {
   "display_name": "Python 3 (ipykernel)",
   "language": "python",
   "name": "python3"
  },
  "language_info": {
   "codemirror_mode": {
    "name": "ipython",
    "version": 3
   },
   "file_extension": ".py",
   "mimetype": "text/x-python",
   "name": "python",
   "nbconvert_exporter": "python",
   "pygments_lexer": "ipython3",
   "version": "3.10.9"
  }
 },
 "nbformat": 4,
 "nbformat_minor": 5
}

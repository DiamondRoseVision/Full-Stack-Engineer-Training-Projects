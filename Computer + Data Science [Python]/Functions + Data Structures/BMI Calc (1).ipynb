{
 "cells": [
  {
   "cell_type": "markdown",
   "id": "f582cb49",
   "metadata": {},
   "source": [
    "# BMI Calculator"
   ]
  },
  {
   "cell_type": "code",
   "execution_count": null,
   "id": "35929d93",
   "metadata": {},
   "outputs": [],
   "source": [
    "height = input(\"enter your height in m: \")\n",
    "weight = input(\"enter your weight in kg: \")\n",
    "height1 = int(height)\n",
    "weight1 = int(weight)\n",
    "bmi = (height1/weight1) **2\n",
    "print(bmi)\n"
   ]
  }
 ],
 "metadata": {
  "kernelspec": {
   "display_name": "Python 3 (ipykernel)",
   "language": "python",
   "name": "python3"
  },
  "language_info": {
   "codemirror_mode": {
    "name": "ipython",
    "version": 3
   },
   "file_extension": ".py",
   "mimetype": "text/x-python",
   "name": "python",
   "nbconvert_exporter": "python",
   "pygments_lexer": "ipython3",
   "version": "3.9.13"
  }
 },
 "nbformat": 4,
 "nbformat_minor": 5
}

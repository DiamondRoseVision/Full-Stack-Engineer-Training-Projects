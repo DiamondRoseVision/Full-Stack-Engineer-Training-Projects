{
 "cells": [
  {
   "cell_type": "code",
   "execution_count": 3,
   "id": "29aa84f5",
   "metadata": {},
   "outputs": [
    {
     "name": "stdout",
     "output_type": "stream",
     "text": [
      "Welcome to the Tip Calculator!\n",
      "What was the total bill? $100\n",
      "How much tip would you like to give? 10, 12, or 15? 15\n",
      "How many people are splitting the bill?7\n",
      "16\n"
     ]
    }
   ],
   "source": [
    "print(\"Welcome to the Tip Calculator!\")\n",
    "bill =float(input(\"What was the total bill? $\"))\n",
    "tip = int(input(\"How much tip would you like to give? 10, 12, or 15? \"))\n",
    "people = int(input(\"How many people are splitting the bill?\"))\n",
    "tip_percent = tip / 100\n",
    "total_tip = bill * tip_percent\n",
    "total_bill = bill + total_tip\n",
    "shared_cost = round(total_bill / people)\n",
    "print(shared_cost)\n",
    "    "
   ]
  },
  {
   "cell_type": "code",
   "execution_count": null,
   "id": "d2e4485a",
   "metadata": {},
   "outputs": [],
   "source": []
  }
 ],
 "metadata": {
  "kernelspec": {
   "display_name": "Python 3 (ipykernel)",
   "language": "python",
   "name": "python3"
  },
  "language_info": {
   "codemirror_mode": {
    "name": "ipython",
    "version": 3
   },
   "file_extension": ".py",
   "mimetype": "text/x-python",
   "name": "python",
   "nbconvert_exporter": "python",
   "pygments_lexer": "ipython3",
   "version": "3.9.13"
  }
 },
 "nbformat": 4,
 "nbformat_minor": 5
}

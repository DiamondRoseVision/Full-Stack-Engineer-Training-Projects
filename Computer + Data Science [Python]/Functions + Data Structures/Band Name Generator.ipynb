{
 "cells": [
  {
   "cell_type": "code",
   "execution_count": 12,
   "id": "fee493d8",
   "metadata": {},
   "outputs": [
    {
     "name": "stdout",
     "output_type": "stream",
     "text": [
      "Hello Welcome To The Band Generator!\n",
      "\n",
      "What is your name?\n",
      "Drew\n",
      "What is the name of your first pet?\n",
      "Chocolate\n",
      "Your band name can be Drew Chocolate!\n"
     ]
    }
   ],
   "source": [
    "print(\"Hello Welcome To The Band Generator!\\n\")\n",
    "city = input(\"What is your name?\\n\")\n",
    "pet = input(\"What is the name of your first pet?\\n\")\n",
    "print(\"Your band name can be \"+ city + \" \" + pet + \"!\")"
   ]
  },
  {
   "cell_type": "code",
   "execution_count": null,
   "id": "0e1b1e56",
   "metadata": {},
   "outputs": [],
   "source": []
  }
 ],
 "metadata": {
  "kernelspec": {
   "display_name": "Python 3 (ipykernel)",
   "language": "python",
   "name": "python3"
  },
  "language_info": {
   "codemirror_mode": {
    "name": "ipython",
    "version": 3
   },
   "file_extension": ".py",
   "mimetype": "text/x-python",
   "name": "python",
   "nbconvert_exporter": "python",
   "pygments_lexer": "ipython3",
   "version": "3.9.13"
  }
 },
 "nbformat": 4,
 "nbformat_minor": 5
}
